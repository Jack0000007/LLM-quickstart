{
 "cells": [
  {
   "cell_type": "markdown",
   "id": "90c6730f-5d76-450b-9788-ec883d024f57",
   "metadata": {},
   "source": [
    "# Hugging Face Transformers 微调训练入门\n",
    "\n",
    "本示例将介绍基于 Transformers 实现模型微调训练的主要流程，包括：\n",
    "- 数据集下载\n",
    "- 数据预处理\n",
    "- 训练超参数配置\n",
    "- 训练评估指标设置\n",
    "- 训练器基本介绍\n",
    "- 实战训练\n",
    "- 模型保存"
   ]
  },
  {
   "cell_type": "markdown",
   "id": "aa0b1e12-1921-4438-8d5d-9760a629dcfe",
   "metadata": {},
   "source": [
    "## YelpReviewFull 数据集\n",
    "\n",
    "**Hugging Face 数据集：[ YelpReviewFull ](https://huggingface.co/datasets/yelp_review_full)**\n",
    "\n",
    "### 数据集摘要\n",
    "\n",
    "Yelp评论数据集包括来自Yelp的评论。它是从Yelp Dataset Challenge 2015数据中提取的。\n",
    "\n",
    "### 支持的任务和排行榜\n",
    "文本分类、情感分类：该数据集主要用于文本分类：给定文本，预测情感。\n",
    "\n",
    "### 语言\n",
    "这些评论主要以英语编写。\n",
    "\n",
    "### 数据集结构\n",
    "\n",
    "#### 数据实例\n",
    "一个典型的数据点包括文本和相应的标签。\n",
    "\n",
    "来自YelpReviewFull测试集的示例如下：\n",
    "\n",
    "```json\n",
    "{\n",
    "    'label': 0,\n",
    "    'text': 'I got \\'new\\' tires from them and within two weeks got a flat. I took my car to a local mechanic to see if i could get the hole patched, but they said the reason I had a flat was because the previous patch had blown - WAIT, WHAT? I just got the tire and never needed to have it patched? This was supposed to be a new tire. \\\\nI took the tire over to Flynn\\'s and they told me that someone punctured my tire, then tried to patch it. So there are resentful tire slashers? I find that very unlikely. After arguing with the guy and telling him that his logic was far fetched he said he\\'d give me a new tire \\\\\"this time\\\\\". \\\\nI will never go back to Flynn\\'s b/c of the way this guy treated me and the simple fact that they gave me a used tire!'\n",
    "}\n",
    "```\n",
    "\n",
    "#### 数据字段\n",
    "\n",
    "- 'text': 评论文本使用双引号（\"）转义，任何内部双引号都通过2个双引号（\"\"）转义。换行符使用反斜杠后跟一个 \"n\" 字符转义，即 \"\\n\"。\n",
    "- 'label': 对应于评论的分数（介于1和5之间）。\n",
    "\n",
    "#### 数据拆分\n",
    "\n",
    "Yelp评论完整星级数据集是通过随机选取每个1到5星评论的130,000个训练样本和10,000个测试样本构建的。总共有650,000个训练样本和50,000个测试样本。\n",
    "\n",
    "## 下载数据集"
   ]
  },
  {
   "cell_type": "code",
   "execution_count": 1,
   "id": "bbf72d6c-7ea5-4ee1-969a-c5060b9cb2d4",
   "metadata": {
    "execution": {
     "iopub.execute_input": "2024-07-17T12:54:54.938414Z",
     "iopub.status.busy": "2024-07-17T12:54:54.937983Z",
     "iopub.status.idle": "2024-07-17T12:55:10.042748Z",
     "shell.execute_reply": "2024-07-17T12:55:10.041614Z",
     "shell.execute_reply.started": "2024-07-17T12:54:54.938378Z"
    },
    "tags": []
   },
   "outputs": [
    {
     "name": "stderr",
     "output_type": "stream",
     "text": [
      "/output/peft/lib/python3.10/site-packages/tqdm/auto.py:21: TqdmWarning: IProgress not found. Please update jupyter and ipywidgets. See https://ipywidgets.readthedocs.io/en/stable/user_install.html\n",
      "  from .autonotebook import tqdm as notebook_tqdm\n"
     ]
    }
   ],
   "source": [
    "from datasets import load_dataset\n",
    "\n",
    "dataset = load_dataset(\"yelp_review_full\")"
   ]
  },
  {
   "cell_type": "code",
   "execution_count": 2,
   "id": "ec6fc806-1395-42dd-8121-a6e98a95cf01",
   "metadata": {
    "execution": {
     "iopub.execute_input": "2024-07-17T12:55:12.744889Z",
     "iopub.status.busy": "2024-07-17T12:55:12.744264Z",
     "iopub.status.idle": "2024-07-17T12:55:12.754875Z",
     "shell.execute_reply": "2024-07-17T12:55:12.754070Z",
     "shell.execute_reply.started": "2024-07-17T12:55:12.744851Z"
    },
    "tags": []
   },
   "outputs": [
    {
     "data": {
      "text/plain": [
       "DatasetDict({\n",
       "    train: Dataset({\n",
       "        features: ['label', 'text'],\n",
       "        num_rows: 650000\n",
       "    })\n",
       "    test: Dataset({\n",
       "        features: ['label', 'text'],\n",
       "        num_rows: 50000\n",
       "    })\n",
       "})"
      ]
     },
     "execution_count": 2,
     "metadata": {},
     "output_type": "execute_result"
    }
   ],
   "source": [
    "dataset"
   ]
  },
  {
   "cell_type": "code",
   "execution_count": 3,
   "id": "c94ad529-1604-48bd-8c8d-aa2f3bca6200",
   "metadata": {
    "execution": {
     "iopub.execute_input": "2024-07-17T12:55:13.759386Z",
     "iopub.status.busy": "2024-07-17T12:55:13.759006Z",
     "iopub.status.idle": "2024-07-17T12:55:13.766315Z",
     "shell.execute_reply": "2024-07-17T12:55:13.765523Z",
     "shell.execute_reply.started": "2024-07-17T12:55:13.759350Z"
    },
    "tags": []
   },
   "outputs": [
    {
     "data": {
      "text/plain": [
       "{'label': 2,\n",
       " 'text': \"As far as Starbucks go, this is a pretty nice one.  The baristas are friendly and while I was here, a lot of regulars must have come in, because they bantered away with almost everyone.  The bathroom was clean and well maintained and the trash wasn't overflowing in the canisters around the store.  The pastries looked fresh, but I didn't partake.  The noise level was also at a nice working level - not too loud, music just barely audible.\\\\n\\\\nI do wish there was more seating.  It is nice that this location has a counter at the end of the bar for sole workers, but it doesn't replace more tables.  I'm sure this isn't as much of a problem in the summer when there's the space outside.\\\\n\\\\nThere was a treat receipt promo going on, but the barista didn't tell me about it, which I found odd.  Usually when they have promos like that going on, they ask everyone if they want their receipt to come back later in the day to claim whatever the offer is.  Today it was one of their new pastries for $1, I know in the summer they do $2 grande iced drinks with that morning's receipt.\\\\n\\\\nOverall, nice working or socializing environment.  Very friendly and inviting.  It's what I've come to expect from Starbucks, so points for consistency.\"}"
      ]
     },
     "execution_count": 3,
     "metadata": {},
     "output_type": "execute_result"
    }
   ],
   "source": [
    "dataset[\"train\"][111]"
   ]
  },
  {
   "cell_type": "code",
   "execution_count": 4,
   "id": "6dc45997-e391-456f-b0b9-d3193b0f6a9d",
   "metadata": {
    "execution": {
     "iopub.execute_input": "2024-07-17T12:55:14.537677Z",
     "iopub.status.busy": "2024-07-17T12:55:14.537301Z",
     "iopub.status.idle": "2024-07-17T12:55:14.542344Z",
     "shell.execute_reply": "2024-07-17T12:55:14.541360Z",
     "shell.execute_reply.started": "2024-07-17T12:55:14.537644Z"
    },
    "tags": []
   },
   "outputs": [],
   "source": [
    "import random\n",
    "import pandas as pd\n",
    "import datasets\n",
    "from IPython.display import display, HTML"
   ]
  },
  {
   "cell_type": "code",
   "execution_count": 5,
   "id": "9e2ecebb-d5d1-456d-967c-842a79fdd622",
   "metadata": {
    "execution": {
     "iopub.execute_input": "2024-07-17T12:55:15.127434Z",
     "iopub.status.busy": "2024-07-17T12:55:15.127074Z",
     "iopub.status.idle": "2024-07-17T12:55:15.134813Z",
     "shell.execute_reply": "2024-07-17T12:55:15.133992Z",
     "shell.execute_reply.started": "2024-07-17T12:55:15.127402Z"
    },
    "tags": []
   },
   "outputs": [],
   "source": [
    "def show_random_elements(dataset, num_examples=10):\n",
    "    assert num_examples <= len(dataset), \"Can't pick more elements than there are in the dataset.\"\n",
    "    picks = []\n",
    "    for _ in range(num_examples):\n",
    "        pick = random.randint(0, len(dataset)-1)\n",
    "        while pick in picks:\n",
    "            pick = random.randint(0, len(dataset)-1)\n",
    "        picks.append(pick)\n",
    "    \n",
    "    df = pd.DataFrame(dataset[picks])\n",
    "    for column, typ in dataset.features.items():\n",
    "        if isinstance(typ, datasets.ClassLabel):\n",
    "            df[column] = df[column].transform(lambda i: typ.names[i])\n",
    "    display(HTML(df.to_html()))"
   ]
  },
  {
   "cell_type": "code",
   "execution_count": 6,
   "id": "1af560b6-7d21-499e-9b82-114be371a98a",
   "metadata": {
    "execution": {
     "iopub.execute_input": "2024-07-17T12:55:15.942402Z",
     "iopub.status.busy": "2024-07-17T12:55:15.942109Z",
     "iopub.status.idle": "2024-07-17T12:55:15.950761Z",
     "shell.execute_reply": "2024-07-17T12:55:15.950305Z",
     "shell.execute_reply.started": "2024-07-17T12:55:15.942380Z"
    },
    "tags": []
   },
   "outputs": [
    {
     "data": {
      "text/html": [
       "<table border=\"1\" class=\"dataframe\">\n",
       "  <thead>\n",
       "    <tr style=\"text-align: right;\">\n",
       "      <th></th>\n",
       "      <th>label</th>\n",
       "      <th>text</th>\n",
       "    </tr>\n",
       "  </thead>\n",
       "  <tbody>\n",
       "    <tr>\n",
       "      <th>0</th>\n",
       "      <td>2 star</td>\n",
       "      <td>Granted, Taco Bell isn't going to be a five-star experience, but this one is average even for Taco Bell.  Every time I've gone through the drive-through, they've forgotten something or put in the wrong item.  I stopped using their drive through.</td>\n",
       "    </tr>\n",
       "    <tr>\n",
       "      <th>1</th>\n",
       "      <td>2 star</td>\n",
       "      <td>I go regularly because of the convenience of the location. I do have several gripes though. \\n\\n1. Staff is very unprofessional. Some fun and joking around is great, the staff here acts like a bunch of middle-schoolers. They are usually more interested in joking around than doing their jobs. 9 times out of 10 the person doing my physical tries to tell me about their crazy weekend of partying, or show me the disgusting injury they got. The lack of professionalism definitely gets annoying.\\n\\n2 Pay rates are fair. BUT they can trick you with the pay scheduling. If you come twice a week, the first visit is $20, the second is $39. Seems pretty straight forward. WRONG. I went on a Saturday and got $20 then on Monday and got $20. They never tell you that 7 days does not constitute a week. Pay rates run by the calendar-week.\\n\\n3 Yesterday when going, there was an older red-haired woman working; not a phlebotomist, responsible for clearing out the used machines, setting up new ones, and removing needles and bandaging people up. I watched her go from person to person, machine to machine and NEVER CHANGE HER GLOVES EVEN ONCE! That's not the norm though. Disturbing none-the-less.\\n\\nRealistically though, if you are in the situation where you need money bad enough to sell your plasma, that stuff probably won't stop you from going to CSL. If you have the option, try somewhere else.</td>\n",
       "    </tr>\n",
       "    <tr>\n",
       "      <th>2</th>\n",
       "      <td>4 stars</td>\n",
       "      <td>Again, caveat lector, I don't like Chinese food very much or very often. After my last excursion for Chinese, I've become a brand loyalist to Golden Harbor Unfortunately for me, G.H. was packed like sardines tonight.\\n\\nThus, it was Rainbow Garden, and perhaps we should chalk it up to my perpetually low expectations for Chinese, but I actually enjoyed this place. It's fairly reasonably priced, the decor is nice (i.e. not a whole in the wall) and unlike G.H., it's more of a traditional restaurant service experience. \\n\\nWhere Rainbow Garden is scoring most of its points is that, as some of the other reviews have noted, the service was fantastic. By that I mean, we had food within 10 minutes of ordering it and glasses that never really got empty.\\n\\nThe food was good, I suppose. I liked it enough. I'd come back. I wish they gave me some more rice though. I like a lot of rice.</td>\n",
       "    </tr>\n",
       "    <tr>\n",
       "      <th>3</th>\n",
       "      <td>5 stars</td>\n",
       "      <td>I'm happy to say that, after 3 years, the level of service here continues to impress and amaze. They have a bit of a rotating staff--the only two barbers still working here since the first time I went are the owner and a very nice lady from Albania. Everyone here does top-quality work, so it doesn't really matter who you get.\\n\\nThe shop is very clean, and they accept credit/debit cards.</td>\n",
       "    </tr>\n",
       "    <tr>\n",
       "      <th>4</th>\n",
       "      <td>2 star</td>\n",
       "      <td>I went here cause I had a groupon. The prices were very high, so I needed the groupon for sure. The food was very good, but the cashier was not friendly at all. Made it seem like I was bothering her with any question I asked. I'm a big fan of Georges at Mckellips. They always had specials and kool people. While the food was good, the un-friendly atmosphere at the 27th ave location left a bad taste for sure.</td>\n",
       "    </tr>\n",
       "    <tr>\n",
       "      <th>5</th>\n",
       "      <td>4 stars</td>\n",
       "      <td>This place truly is the epitome of the breakfast/brunch/lunch restaurant. I have yet to  order anything that did not completely live up to my expectations. \\n\\nI have to recommendations for this restaurant and they they are that you either first get the Monte crisco or a Benny. The omelets and skillets are good too but they just are not the name sakes.\\n\\nI would happily give the restaurant a five star rating but sometimes the service is just not that go od and five stars has to  mean something!</td>\n",
       "    </tr>\n",
       "    <tr>\n",
       "      <th>6</th>\n",
       "      <td>2 star</td>\n",
       "      <td>Neither myself or my 2 Irish flatmates had any plans for St Patrick's Day, so the day before, we decided it would be nice to do something.  The Ghillie Dhu was advertising Irish stew, Guinness, Irish dancing and music - all for \\u00a315, so I rang up and booked in for it. However, we got none of what was advertised!  When we got there, they sat us in a nice cosy booth, but that seemed odd since we were expecting to be able to see some entertainment.  When they brought us a 3 course menu, we said that we were there for the St Patrick's Day Irish Stew, Guinness etc.  We were told there was a muck up with the marketing.  Apparently they were going to have it in the upstairs function room, but it got canned as not enough people booked.  Would have been nice of them to update their website, especially when I only phoned to book in the night before!  However we instead ordered 2 courses for \\u00a38.95.  We all ordered the Salmon.  I enjoyed the veges and the sauce, and the salmon itself was just OK; could have done with a splash of lemon juice or something.  For dessert, my flatmates just ordered ice-cream, but I ordered the vanilla and chocolate cheesecake with berry compote.  When it arrived, it was 2 big triangles, so a substantial helping.  However the chocolate part of the cheesecake was obviously white chocolate, which I would not have ordered if it had said that on the menu as you would expect!  I could not taste either vanilla or white chocolate anyway, so it was very bland.  At least the biscuit base and berry compote was nice.\\n\\nThe service was laid back, but satisfactory\\n\\nEnjoyed several glasses of red wine and some good chat with flatmates, But overall, very disappointed with the situation and my dessert.  I would not go back for dinner.</td>\n",
       "    </tr>\n",
       "    <tr>\n",
       "      <th>7</th>\n",
       "      <td>5 stars</td>\n",
       "      <td>not sure what's going on with the other people but I've loved this restaurant for years! the service is always excellent they treat you like family and the food is amazing especially for $18it's a perfect place to have dinner and then enjoy the lightshow afterwards!</td>\n",
       "    </tr>\n",
       "    <tr>\n",
       "      <th>8</th>\n",
       "      <td>3 stars</td>\n",
       "      <td>Looking for a hardware in this area is impossible, but this is the nearest that you will get to one unless you are willing to travel a distance.\\nI would describe this store more of a corner shop with the added on section of nuts and bolts at an inflated price. \\n\\nIt is a handy wee store for the area stocking your essentials of milk and bread &amp; buckfast, with a good selection of magazines and daily papers.</td>\n",
       "    </tr>\n",
       "    <tr>\n",
       "      <th>9</th>\n",
       "      <td>2 star</td>\n",
       "      <td>Sob. After my bad experience last time with the SAME THREE FRIENDS, we idiots decided to come again. Why? Because my friend is personal friends with the DJ spinning that night (I don't want to give out details for her and the DJ's privacy, but the DJ is pretty famous and has spun at Ultra and Tomorrowworld). So the DJ got us on his artist guest list and off we went!\\n\\nLike last time, the place had HUGE lines that wrapped around everywhere. It was like the fucking Maze of the Minotaur that Hercules had to find his way out of. We flagged down a bouncer, he found our  names on the list and we skipped ahead to the cashier. I will make a point that the bouncers are much nicer than a year ago, so it seems like they are making an effort to change. \\n\\nThe cashier was a snot. She sniffed when my friend told her we were on the list and said, \\\"no you aren't. It doesn't say so on your paper\\\". My friend \\\"Um, yes it does\\\". The cashier looked down, \\\"oh...\\\" and we were waved ahead. There are elevators now (THANK GOD!!!) and no more climbing six flights of stairs in heels. \\n\\nSo we wandered around the club not really knowing what the artist's gust list was and tried asking many, many bouncers where we were supposed to be, if we even had a special place to be. No one had a clue. I suggested giving up and just enjoying ourselves. My friend tried one last guy who turned out to be a manager of sorts. Lo and behold, we had FREE BOTTLE SERVICE WHAT WHAT. \\n\\nWe went to the table (yay!!) and got a drink. Not even ten minutes later, this DJ's manager shows up and states that this is his table. The bouncer/security at the table tells my friend \\\"You've got to leave\\\". And shoves us out. =(\\n\\nNow obviously a friend of the DJ's and her silly friends are not as important as the DJ's manager, and at this point I was just happy that I got some free drinks and got to skip the line, but my friends were treated very disrespectfully by the bouncers at the table. I'm not upset that we didn't get to stay. I'm upset because my friend was extremely embarrassed that she was sneered at and dismissed like a piece of dirt. \\n\\nAnyway, to be honest, the rest of the night we got over it and we had a good time (The DJ was very good). My friend is semi-famous and mentioned her bad experience to her legion of fans and Marquee sent her an email apologizing and offering her free tickets for next time. And like I said, I did notice the bouncers were more tolerable. No one screamed in my ear and no bouncer pushed me out of their way. Their promoters are always great, Brian T is a good one on Yelp to get on the guest list.</td>\n",
       "    </tr>\n",
       "  </tbody>\n",
       "</table>"
      ],
      "text/plain": [
       "<IPython.core.display.HTML object>"
      ]
     },
     "metadata": {},
     "output_type": "display_data"
    }
   ],
   "source": [
    "show_random_elements(dataset[\"train\"])"
   ]
  },
  {
   "cell_type": "markdown",
   "id": "c9df7cd0-23cd-458f-b2b5-f025c3b9fe62",
   "metadata": {},
   "source": [
    "## 预处理数据\n",
    "\n",
    "下载数据集到本地后，使用 Tokenizer 来处理文本，对于长度不等的输入数据，可以使用填充（padding）和截断（truncation）策略来处理。\n",
    "\n",
    "Datasets 的 `map` 方法，支持一次性在整个数据集上应用预处理函数。\n",
    "\n",
    "下面使用填充到最大长度的策略，处理整个数据集："
   ]
  },
  {
   "cell_type": "code",
   "execution_count": 7,
   "id": "8bf2b342-e1dd-4ab6-ad57-28eb2513ae38",
   "metadata": {
    "execution": {
     "iopub.execute_input": "2024-07-17T12:55:17.755443Z",
     "iopub.status.busy": "2024-07-17T12:55:17.755013Z",
     "iopub.status.idle": "2024-07-17T12:55:32.653700Z",
     "shell.execute_reply": "2024-07-17T12:55:32.652470Z",
     "shell.execute_reply.started": "2024-07-17T12:55:17.755409Z"
    },
    "tags": []
   },
   "outputs": [
    {
     "name": "stderr",
     "output_type": "stream",
     "text": [
      "/output/peft/lib/python3.10/site-packages/huggingface_hub/file_download.py:1132: FutureWarning: `resume_download` is deprecated and will be removed in version 1.0.0. Downloads always resume when possible. If you want to force a new download, use `force_download=True`.\n",
      "  warnings.warn(\n"
     ]
    }
   ],
   "source": [
    "from transformers import AutoTokenizer\n",
    "\n",
    "tokenizer = AutoTokenizer.from_pretrained(\"bert-base-cased\")\n",
    "\n",
    "\n",
    "def tokenize_function(examples):\n",
    "    return tokenizer(examples[\"text\"], padding=\"max_length\", truncation=True)\n",
    "\n",
    "\n",
    "tokenized_datasets = dataset.map(tokenize_function, batched=True)"
   ]
  },
  {
   "cell_type": "code",
   "execution_count": 8,
   "id": "47a415a8-cd15-4a8c-851b-9b4740ef8271",
   "metadata": {
    "execution": {
     "iopub.execute_input": "2024-07-17T12:55:35.518914Z",
     "iopub.status.busy": "2024-07-17T12:55:35.518434Z",
     "iopub.status.idle": "2024-07-17T12:55:35.532803Z",
     "shell.execute_reply": "2024-07-17T12:55:35.531990Z",
     "shell.execute_reply.started": "2024-07-17T12:55:35.518873Z"
    },
    "tags": []
   },
   "outputs": [
    {
     "data": {
      "text/html": [
       "<table border=\"1\" class=\"dataframe\">\n",
       "  <thead>\n",
       "    <tr style=\"text-align: right;\">\n",
       "      <th></th>\n",
       "      <th>label</th>\n",
       "      <th>text</th>\n",
       "      <th>input_ids</th>\n",
       "      <th>token_type_ids</th>\n",
       "      <th>attention_mask</th>\n",
       "    </tr>\n",
       "  </thead>\n",
       "  <tbody>\n",
       "    <tr>\n",
       "      <th>0</th>\n",
       "      <td>4 stars</td>\n",
       "      <td>I dig this place! The ambiance is the main factor for me....rescued exotic birds, lots of lush trees and flowers, and a pretty cool rooftop patio.\\n\\nI would agree with a lot of reviewers here - they need to refine the menu. I will say they did improve the menu in between our visits, but it still needs some tweaking. We're excited for when they start brewing their own beer, which I've heard is in the very near future.\\n\\nOverall, I really like this place &amp; recommend to my friends and clients. They're a new restaurant, so nothing's going to be perfect in the beginning, but they always look busy to me, so I'm glad they're getting lots of love &amp; support so they can continue to grow and improve.</td>\n",
       "      <td>[101, 146, 11902, 1142, 1282, 106, 1109, 1821, 12324, 2093, 1110, 1103, 1514, 5318, 1111, 1143, 119, 119, 119, 119, 10043, 13640, 4939, 117, 7424, 1104, 19302, 2863, 1105, 4637, 117, 1105, 170, 2785, 4348, 27915, 22408, 119, 165, 183, 165, 183, 2240, 1156, 5340, 1114, 170, 1974, 1104, 19475, 1303, 118, 1152, 1444, 1106, 1231, 24191, 1103, 13171, 119, 146, 1209, 1474, 1152, 1225, 4607, 1103, 13171, 1107, 1206, 1412, 7508, 117, 1133, 1122, 1253, 2993, 1199, 189, 7921, 13024, 119, 1284, 112, 1231, 7215, 1111, 1165, 1152, 1838, 23800, 1147, 1319, 5298, 117, 1134, 146, 112, 1396, 1767, ...]</td>\n",
       "      <td>[0, 0, 0, 0, 0, 0, 0, 0, 0, 0, 0, 0, 0, 0, 0, 0, 0, 0, 0, 0, 0, 0, 0, 0, 0, 0, 0, 0, 0, 0, 0, 0, 0, 0, 0, 0, 0, 0, 0, 0, 0, 0, 0, 0, 0, 0, 0, 0, 0, 0, 0, 0, 0, 0, 0, 0, 0, 0, 0, 0, 0, 0, 0, 0, 0, 0, 0, 0, 0, 0, 0, 0, 0, 0, 0, 0, 0, 0, 0, 0, 0, 0, 0, 0, 0, 0, 0, 0, 0, 0, 0, 0, 0, 0, 0, 0, 0, 0, 0, 0, ...]</td>\n",
       "      <td>[1, 1, 1, 1, 1, 1, 1, 1, 1, 1, 1, 1, 1, 1, 1, 1, 1, 1, 1, 1, 1, 1, 1, 1, 1, 1, 1, 1, 1, 1, 1, 1, 1, 1, 1, 1, 1, 1, 1, 1, 1, 1, 1, 1, 1, 1, 1, 1, 1, 1, 1, 1, 1, 1, 1, 1, 1, 1, 1, 1, 1, 1, 1, 1, 1, 1, 1, 1, 1, 1, 1, 1, 1, 1, 1, 1, 1, 1, 1, 1, 1, 1, 1, 1, 1, 1, 1, 1, 1, 1, 1, 1, 1, 1, 1, 1, 1, 1, 1, 1, ...]</td>\n",
       "    </tr>\n",
       "  </tbody>\n",
       "</table>"
      ],
      "text/plain": [
       "<IPython.core.display.HTML object>"
      ]
     },
     "metadata": {},
     "output_type": "display_data"
    }
   ],
   "source": [
    "show_random_elements(tokenized_datasets[\"train\"], num_examples=1)"
   ]
  },
  {
   "cell_type": "markdown",
   "id": "1c33d153-f729-4f04-972c-a764c1cbbb8b",
   "metadata": {},
   "source": [
    "### 数据抽样\n",
    "\n",
    "使用 1000 个数据样本，在 BERT 上演示小规模训练（基于 Pytorch Trainer）\n",
    "\n",
    "`shuffle()`函数会随机重新排列列的值。如果您希望对用于洗牌数据集的算法有更多控制，可以在此函数中指定generator参数来使用不同的numpy.random.Generator。"
   ]
  },
  {
   "cell_type": "code",
   "execution_count": 9,
   "id": "a17317d8-3c6a-467f-843d-87491f600db1",
   "metadata": {
    "execution": {
     "iopub.execute_input": "2024-07-17T12:55:39.676485Z",
     "iopub.status.busy": "2024-07-17T12:55:39.676001Z",
     "iopub.status.idle": "2024-07-17T12:55:39.681278Z",
     "shell.execute_reply": "2024-07-17T12:55:39.680517Z",
     "shell.execute_reply.started": "2024-07-17T12:55:39.676444Z"
    },
    "tags": []
   },
   "outputs": [],
   "source": [
    "#small_train_dataset = tokenized_datasets[\"train\"].shuffle(seed=42).select(range(1000))\n",
    "#small_eval_dataset = tokenized_datasets[\"test\"].shuffle(seed=42).select(range(1000))\n",
    "\n",
    "small_train_dataset = tokenized_datasets[\"train\"]\n",
    "small_eval_dataset = tokenized_datasets[\"test\"]"
   ]
  },
  {
   "cell_type": "markdown",
   "id": "d3b65d63-2d3a-4a56-bc31-6e88a29e9dec",
   "metadata": {},
   "source": [
    "## 微调训练配置\n",
    "\n",
    "### 加载 BERT 模型\n",
    "\n",
    "警告通知我们正在丢弃一些权重（`vocab_transform` 和 `vocab_layer_norm` 层），并随机初始化其他一些权重（`pre_classifier` 和 `classifier` 层）。在微调模型情况下是绝对正常的，因为我们正在删除用于预训练模型的掩码语言建模任务的头部，并用一个新的头部替换它，对于这个新头部，我们没有预训练的权重，所以库会警告我们在用它进行推理之前应该对这个模型进行微调，而这正是我们要做的事情。"
   ]
  },
  {
   "cell_type": "code",
   "execution_count": 10,
   "id": "4d2af4df-abd4-4a4b-94b6-b0e7375304ed",
   "metadata": {
    "execution": {
     "iopub.execute_input": "2024-07-17T12:55:49.993211Z",
     "iopub.status.busy": "2024-07-17T12:55:49.992721Z",
     "iopub.status.idle": "2024-07-17T12:55:51.447314Z",
     "shell.execute_reply": "2024-07-17T12:55:51.446698Z",
     "shell.execute_reply.started": "2024-07-17T12:55:49.993171Z"
    },
    "tags": []
   },
   "outputs": [
    {
     "name": "stderr",
     "output_type": "stream",
     "text": [
      "Some weights of BertForSequenceClassification were not initialized from the model checkpoint at bert-base-cased and are newly initialized: ['classifier.bias', 'classifier.weight']\n",
      "You should probably TRAIN this model on a down-stream task to be able to use it for predictions and inference.\n"
     ]
    }
   ],
   "source": [
    "from transformers import AutoModelForSequenceClassification\n",
    "\n",
    "model = AutoModelForSequenceClassification.from_pretrained(\"bert-base-cased\", num_labels=5)"
   ]
  },
  {
   "cell_type": "markdown",
   "id": "b44014df-b52c-4c72-9e9f-54424725a473",
   "metadata": {},
   "source": [
    "### 训练超参数（TrainingArguments）\n",
    "\n",
    "完整配置参数与默认值：https://huggingface.co/docs/transformers/v4.36.1/en/main_classes/trainer#transformers.TrainingArguments\n",
    "\n",
    "源代码定义：https://github.com/huggingface/transformers/blob/v4.36.1/src/transformers/training_args.py#L161\n",
    "\n",
    "**最重要配置：模型权重保存路径(output_dir)**"
   ]
  },
  {
   "cell_type": "code",
   "execution_count": 11,
   "id": "98c01d5c-de72-4ff0-b11d-e07ac5346888",
   "metadata": {
    "execution": {
     "iopub.execute_input": "2024-07-17T12:55:53.463380Z",
     "iopub.status.busy": "2024-07-17T12:55:53.462673Z",
     "iopub.status.idle": "2024-07-17T12:55:53.477327Z",
     "shell.execute_reply": "2024-07-17T12:55:53.476927Z",
     "shell.execute_reply.started": "2024-07-17T12:55:53.463341Z"
    },
    "tags": []
   },
   "outputs": [],
   "source": [
    "from transformers import TrainingArguments\n",
    "\n",
    "model_dir = \"models/bert-base-cased-finetune-yelp\"\n",
    "\n",
    "# logging_steps 默认值为500，根据我们的训练数据和步长，将其设置为100\n",
    "training_args = TrainingArguments(output_dir=model_dir,\n",
    "                                  per_device_train_batch_size=16,\n",
    "                                  num_train_epochs=5,\n",
    "                                  logging_steps=100)"
   ]
  },
  {
   "cell_type": "code",
   "execution_count": 12,
   "id": "0ce03480-3aaa-48ea-a0c6-a177b8d8e34f",
   "metadata": {
    "execution": {
     "iopub.execute_input": "2024-07-17T12:55:54.165034Z",
     "iopub.status.busy": "2024-07-17T12:55:54.164639Z",
     "iopub.status.idle": "2024-07-17T12:55:54.170875Z",
     "shell.execute_reply": "2024-07-17T12:55:54.169909Z",
     "shell.execute_reply.started": "2024-07-17T12:55:54.164998Z"
    },
    "tags": []
   },
   "outputs": [
    {
     "name": "stdout",
     "output_type": "stream",
     "text": [
      "TrainingArguments(\n",
      "_n_gpu=1,\n",
      "adafactor=False,\n",
      "adam_beta1=0.9,\n",
      "adam_beta2=0.999,\n",
      "adam_epsilon=1e-08,\n",
      "auto_find_batch_size=False,\n",
      "bf16=False,\n",
      "bf16_full_eval=False,\n",
      "data_seed=None,\n",
      "dataloader_drop_last=False,\n",
      "dataloader_num_workers=0,\n",
      "dataloader_persistent_workers=False,\n",
      "dataloader_pin_memory=True,\n",
      "ddp_backend=None,\n",
      "ddp_broadcast_buffers=None,\n",
      "ddp_bucket_cap_mb=None,\n",
      "ddp_find_unused_parameters=None,\n",
      "ddp_timeout=1800,\n",
      "debug=[],\n",
      "deepspeed=None,\n",
      "disable_tqdm=False,\n",
      "dispatch_batches=None,\n",
      "do_eval=False,\n",
      "do_predict=False,\n",
      "do_train=False,\n",
      "eval_accumulation_steps=None,\n",
      "eval_delay=0,\n",
      "eval_steps=None,\n",
      "evaluation_strategy=no,\n",
      "fp16=False,\n",
      "fp16_backend=auto,\n",
      "fp16_full_eval=False,\n",
      "fp16_opt_level=O1,\n",
      "fsdp=[],\n",
      "fsdp_config={'min_num_params': 0, 'xla': False, 'xla_fsdp_grad_ckpt': False},\n",
      "fsdp_min_num_params=0,\n",
      "fsdp_transformer_layer_cls_to_wrap=None,\n",
      "full_determinism=False,\n",
      "gradient_accumulation_steps=1,\n",
      "gradient_checkpointing=False,\n",
      "gradient_checkpointing_kwargs=None,\n",
      "greater_is_better=None,\n",
      "group_by_length=False,\n",
      "half_precision_backend=auto,\n",
      "hub_always_push=False,\n",
      "hub_model_id=None,\n",
      "hub_private_repo=False,\n",
      "hub_strategy=every_save,\n",
      "hub_token=<HUB_TOKEN>,\n",
      "ignore_data_skip=False,\n",
      "include_inputs_for_metrics=False,\n",
      "include_num_input_tokens_seen=False,\n",
      "include_tokens_per_second=False,\n",
      "jit_mode_eval=False,\n",
      "label_names=None,\n",
      "label_smoothing_factor=0.0,\n",
      "learning_rate=5e-05,\n",
      "length_column_name=length,\n",
      "load_best_model_at_end=False,\n",
      "local_rank=0,\n",
      "log_level=passive,\n",
      "log_level_replica=warning,\n",
      "log_on_each_node=True,\n",
      "logging_dir=models/bert-base-cased-finetune-yelp/runs/Jul17_12-55-53_jackpython-ezdnkmlmhekc-main,\n",
      "logging_first_step=False,\n",
      "logging_nan_inf_filter=True,\n",
      "logging_steps=100,\n",
      "logging_strategy=steps,\n",
      "lr_scheduler_kwargs={},\n",
      "lr_scheduler_type=linear,\n",
      "max_grad_norm=1.0,\n",
      "max_steps=-1,\n",
      "metric_for_best_model=None,\n",
      "mp_parameters=,\n",
      "neftune_noise_alpha=None,\n",
      "no_cuda=False,\n",
      "num_train_epochs=5,\n",
      "optim=adamw_torch,\n",
      "optim_args=None,\n",
      "output_dir=models/bert-base-cased-finetune-yelp,\n",
      "overwrite_output_dir=False,\n",
      "past_index=-1,\n",
      "per_device_eval_batch_size=8,\n",
      "per_device_train_batch_size=16,\n",
      "prediction_loss_only=False,\n",
      "push_to_hub=False,\n",
      "push_to_hub_model_id=None,\n",
      "push_to_hub_organization=None,\n",
      "push_to_hub_token=<PUSH_TO_HUB_TOKEN>,\n",
      "ray_scope=last,\n",
      "remove_unused_columns=True,\n",
      "report_to=[],\n",
      "resume_from_checkpoint=None,\n",
      "run_name=models/bert-base-cased-finetune-yelp,\n",
      "save_on_each_node=False,\n",
      "save_only_model=False,\n",
      "save_safetensors=True,\n",
      "save_steps=500,\n",
      "save_strategy=steps,\n",
      "save_total_limit=None,\n",
      "seed=42,\n",
      "skip_memory_metrics=True,\n",
      "split_batches=False,\n",
      "tf32=None,\n",
      "torch_compile=False,\n",
      "torch_compile_backend=None,\n",
      "torch_compile_mode=None,\n",
      "torchdynamo=None,\n",
      "tpu_metrics_debug=False,\n",
      "tpu_num_cores=None,\n",
      "use_cpu=False,\n",
      "use_ipex=False,\n",
      "use_legacy_prediction_loop=False,\n",
      "use_mps_device=False,\n",
      "warmup_ratio=0.0,\n",
      "warmup_steps=0,\n",
      "weight_decay=0.0,\n",
      ")\n"
     ]
    }
   ],
   "source": [
    "# 完整的超参数配置\n",
    "print(training_args)"
   ]
  },
  {
   "cell_type": "markdown",
   "id": "7ebd3365-d359-4ab4-a300-4717590cc240",
   "metadata": {},
   "source": [
    "### 训练过程中的指标评估（Evaluate)\n",
    "\n",
    "**[Hugging Face Evaluate 库](https://huggingface.co/docs/evaluate/index)** 支持使用一行代码，获得数十种不同领域（自然语言处理、计算机视觉、强化学习等）的评估方法。 当前支持 **完整评估指标：https://huggingface.co/evaluate-metric**\n",
    "\n",
    "训练器（Trainer）在训练过程中不会自动评估模型性能。因此，我们需要向训练器传递一个函数来计算和报告指标。 \n",
    "\n",
    "Evaluate库提供了一个简单的准确率函数，您可以使用`evaluate.load`函数加载"
   ]
  },
  {
   "cell_type": "code",
   "execution_count": 13,
   "id": "2a8ef138-5bf2-41e5-8c68-df8e11f4e98f",
   "metadata": {
    "execution": {
     "iopub.execute_input": "2024-07-17T12:55:58.254748Z",
     "iopub.status.busy": "2024-07-17T12:55:58.254471Z",
     "iopub.status.idle": "2024-07-17T12:56:00.256165Z",
     "shell.execute_reply": "2024-07-17T12:56:00.255218Z",
     "shell.execute_reply.started": "2024-07-17T12:55:58.254728Z"
    },
    "tags": []
   },
   "outputs": [],
   "source": [
    "import numpy as np\n",
    "import evaluate\n",
    "metric = evaluate.load(\"accuracy\")"
   ]
  },
  {
   "cell_type": "markdown",
   "id": "70d406c0-56d0-4a54-9c6c-e126ab7f5254",
   "metadata": {},
   "source": [
    "\n",
    "接着，调用 `compute` 函数来计算预测的准确率。\n",
    "\n",
    "在将预测传递给 compute 函数之前，我们需要将 logits 转换为预测值（**所有Transformers 模型都返回 logits**）。"
   ]
  },
  {
   "cell_type": "code",
   "execution_count": 14,
   "id": "f46d2e59-1ebf-43d2-bc86-6b57a4d24d19",
   "metadata": {
    "execution": {
     "iopub.execute_input": "2024-07-17T12:56:01.196057Z",
     "iopub.status.busy": "2024-07-17T12:56:01.195344Z",
     "iopub.status.idle": "2024-07-17T12:56:01.201407Z",
     "shell.execute_reply": "2024-07-17T12:56:01.200325Z",
     "shell.execute_reply.started": "2024-07-17T12:56:01.196018Z"
    },
    "tags": []
   },
   "outputs": [],
   "source": [
    "def compute_metrics(eval_pred):\n",
    "    logits, labels = eval_pred\n",
    "    predictions = np.argmax(logits, axis=-1)\n",
    "    return metric.compute(predictions=predictions, references=labels)"
   ]
  },
  {
   "cell_type": "markdown",
   "id": "e2feba67-9ca9-4793-9a15-3eaa426df2a1",
   "metadata": {},
   "source": [
    "#### 训练过程指标监控\n",
    "\n",
    "通常，为了监控训练过程中的评估指标变化，我们可以在`TrainingArguments`指定`evaluation_strategy`参数，以便在 epoch 结束时报告评估指标。"
   ]
  },
  {
   "cell_type": "code",
   "execution_count": 15,
   "id": "afaaee18-4986-4e39-8ad9-b8d413ab4cd1",
   "metadata": {
    "execution": {
     "iopub.execute_input": "2024-07-17T12:56:02.647449Z",
     "iopub.status.busy": "2024-07-17T12:56:02.646992Z",
     "iopub.status.idle": "2024-07-17T12:56:02.690132Z",
     "shell.execute_reply": "2024-07-17T12:56:02.689612Z",
     "shell.execute_reply.started": "2024-07-17T12:56:02.647410Z"
    },
    "tags": []
   },
   "outputs": [],
   "source": [
    "from transformers import TrainingArguments, Trainer\n",
    "\n",
    "training_args = TrainingArguments(output_dir=model_dir,\n",
    "                                  evaluation_strategy=\"epoch\", \n",
    "                                  per_device_train_batch_size=16,\n",
    "                                  num_train_epochs=3,\n",
    "                                  logging_steps=30)"
   ]
  },
  {
   "cell_type": "markdown",
   "id": "d47d6981-e444-4c0f-a7cb-dd7f2ba8df12",
   "metadata": {},
   "source": [
    "## 开始训练\n",
    "\n",
    "### 实例化训练器（Trainer）\n",
    "\n",
    "`kernel version` 版本问题：暂不影响本示例代码运行"
   ]
  },
  {
   "cell_type": "code",
   "execution_count": 16,
   "id": "ca1d12ac-89dc-4c30-8282-f859724c0062",
   "metadata": {
    "execution": {
     "iopub.execute_input": "2024-07-17T12:56:06.484427Z",
     "iopub.status.busy": "2024-07-17T12:56:06.484166Z",
     "iopub.status.idle": "2024-07-17T12:56:06.680446Z",
     "shell.execute_reply": "2024-07-17T12:56:06.679821Z",
     "shell.execute_reply.started": "2024-07-17T12:56:06.484408Z"
    },
    "tags": []
   },
   "outputs": [],
   "source": [
    "trainer = Trainer(\n",
    "    model=model,\n",
    "    args=training_args,\n",
    "    train_dataset=small_train_dataset,\n",
    "    eval_dataset=small_eval_dataset,\n",
    "    compute_metrics=compute_metrics,\n",
    ")"
   ]
  },
  {
   "cell_type": "markdown",
   "id": "a833e0db-1168-4a3c-8b75-bfdcef8c5157",
   "metadata": {},
   "source": [
    "## 使用 nvidia-smi 查看 GPU 使用\n",
    "\n",
    "为了实时查看GPU使用情况，可以使用 `watch` 指令实现轮询：`watch -n 1 nvidia-smi`:\n",
    "\n",
    "```shell\n",
    "Every 1.0s: nvidia-smi                                                   Wed Dec 20 14:37:41 2023\n",
    "\n",
    "Wed Dec 20 14:37:41 2023\n",
    "+---------------------------------------------------------------------------------------+\n",
    "| NVIDIA-SMI 535.129.03             Driver Version: 535.129.03   CUDA Version: 12.2     |\n",
    "|-----------------------------------------+----------------------+----------------------+\n",
    "| GPU  Name                 Persistence-M | Bus-Id        Disp.A | Volatile Uncorr. ECC |\n",
    "| Fan  Temp   Perf          Pwr:Usage/Cap |         Memory-Usage | GPU-Util  Compute M. |\n",
    "|                                         |                      |               MIG M. |\n",
    "|=========================================+======================+======================|\n",
    "|   0  Tesla T4                       Off | 00000000:00:0D.0 Off |                    0 |\n",
    "| N/A   64C    P0              69W /  70W |   6665MiB / 15360MiB |     98%      Default |\n",
    "|                                         |                      |                  N/A |\n",
    "+-----------------------------------------+----------------------+----------------------+\n",
    "\n",
    "+---------------------------------------------------------------------------------------+\n",
    "| Processes:                                                                            |\n",
    "|  GPU   GI   CI        PID   Type   Process name                            GPU Memory |\n",
    "|        ID   ID                                                             Usage      |\n",
    "|=======================================================================================|\n",
    "|    0   N/A  N/A     18395      C   /root/miniconda3/bin/python                6660MiB |\n",
    "+---------------------------------------------------------------------------------------+\n",
    "```"
   ]
  },
  {
   "cell_type": "code",
   "execution_count": 17,
   "id": "accfe921-471d-481a-96da-c491cdebad0c",
   "metadata": {
    "execution": {
     "iopub.execute_input": "2024-07-17T12:56:08.260537Z",
     "iopub.status.busy": "2024-07-17T12:56:08.260339Z",
     "iopub.status.idle": "2024-07-17T13:00:29.080182Z",
     "shell.execute_reply": "2024-07-17T13:00:29.079396Z",
     "shell.execute_reply.started": "2024-07-17T12:56:08.260518Z"
    },
    "tags": []
   },
   "outputs": [
    {
     "data": {
      "text/html": [
       "\n",
       "    <div>\n",
       "      \n",
       "      <progress value='1272' max='121875' style='width:300px; height:20px; vertical-align: middle;'></progress>\n",
       "      [  1272/121875 04:19 < 6:50:29, 4.90 it/s, Epoch 0.03/3]\n",
       "    </div>\n",
       "    <table border=\"1\" class=\"dataframe\">\n",
       "  <thead>\n",
       " <tr style=\"text-align: left;\">\n",
       "      <th>Epoch</th>\n",
       "      <th>Training Loss</th>\n",
       "      <th>Validation Loss</th>\n",
       "    </tr>\n",
       "  </thead>\n",
       "  <tbody>\n",
       "  </tbody>\n",
       "</table><p>"
      ],
      "text/plain": [
       "<IPython.core.display.HTML object>"
      ]
     },
     "metadata": {},
     "output_type": "display_data"
    },
    {
     "ename": "KeyboardInterrupt",
     "evalue": "",
     "output_type": "error",
     "traceback": [
      "\u001b[0;31m---------------------------------------------------------------------------\u001b[0m",
      "\u001b[0;31mKeyboardInterrupt\u001b[0m                         Traceback (most recent call last)",
      "Cell \u001b[0;32mIn[17], line 1\u001b[0m\n\u001b[0;32m----> 1\u001b[0m \u001b[43mtrainer\u001b[49m\u001b[38;5;241;43m.\u001b[39;49m\u001b[43mtrain\u001b[49m\u001b[43m(\u001b[49m\u001b[43m)\u001b[49m\n",
      "File \u001b[0;32m/output/peft/lib/python3.10/site-packages/transformers/trainer.py:1539\u001b[0m, in \u001b[0;36mTrainer.train\u001b[0;34m(self, resume_from_checkpoint, trial, ignore_keys_for_eval, **kwargs)\u001b[0m\n\u001b[1;32m   1537\u001b[0m         hf_hub_utils\u001b[38;5;241m.\u001b[39menable_progress_bars()\n\u001b[1;32m   1538\u001b[0m \u001b[38;5;28;01melse\u001b[39;00m:\n\u001b[0;32m-> 1539\u001b[0m     \u001b[38;5;28;01mreturn\u001b[39;00m \u001b[43minner_training_loop\u001b[49m\u001b[43m(\u001b[49m\n\u001b[1;32m   1540\u001b[0m \u001b[43m        \u001b[49m\u001b[43margs\u001b[49m\u001b[38;5;241;43m=\u001b[39;49m\u001b[43margs\u001b[49m\u001b[43m,\u001b[49m\n\u001b[1;32m   1541\u001b[0m \u001b[43m        \u001b[49m\u001b[43mresume_from_checkpoint\u001b[49m\u001b[38;5;241;43m=\u001b[39;49m\u001b[43mresume_from_checkpoint\u001b[49m\u001b[43m,\u001b[49m\n\u001b[1;32m   1542\u001b[0m \u001b[43m        \u001b[49m\u001b[43mtrial\u001b[49m\u001b[38;5;241;43m=\u001b[39;49m\u001b[43mtrial\u001b[49m\u001b[43m,\u001b[49m\n\u001b[1;32m   1543\u001b[0m \u001b[43m        \u001b[49m\u001b[43mignore_keys_for_eval\u001b[49m\u001b[38;5;241;43m=\u001b[39;49m\u001b[43mignore_keys_for_eval\u001b[49m\u001b[43m,\u001b[49m\n\u001b[1;32m   1544\u001b[0m \u001b[43m    \u001b[49m\u001b[43m)\u001b[49m\n",
      "File \u001b[0;32m/output/peft/lib/python3.10/site-packages/transformers/trainer.py:1874\u001b[0m, in \u001b[0;36mTrainer._inner_training_loop\u001b[0;34m(self, batch_size, args, resume_from_checkpoint, trial, ignore_keys_for_eval)\u001b[0m\n\u001b[1;32m   1868\u001b[0m \u001b[38;5;28;01mwith\u001b[39;00m \u001b[38;5;28mself\u001b[39m\u001b[38;5;241m.\u001b[39maccelerator\u001b[38;5;241m.\u001b[39maccumulate(model):\n\u001b[1;32m   1869\u001b[0m     tr_loss_step \u001b[38;5;241m=\u001b[39m \u001b[38;5;28mself\u001b[39m\u001b[38;5;241m.\u001b[39mtraining_step(model, inputs)\n\u001b[1;32m   1871\u001b[0m \u001b[38;5;28;01mif\u001b[39;00m (\n\u001b[1;32m   1872\u001b[0m     args\u001b[38;5;241m.\u001b[39mlogging_nan_inf_filter\n\u001b[1;32m   1873\u001b[0m     \u001b[38;5;129;01mand\u001b[39;00m \u001b[38;5;129;01mnot\u001b[39;00m is_torch_tpu_available()\n\u001b[0;32m-> 1874\u001b[0m     \u001b[38;5;129;01mand\u001b[39;00m (torch\u001b[38;5;241m.\u001b[39misnan(tr_loss_step) \u001b[38;5;129;01mor\u001b[39;00m \u001b[43mtorch\u001b[49m\u001b[38;5;241;43m.\u001b[39;49m\u001b[43misinf\u001b[49m\u001b[43m(\u001b[49m\u001b[43mtr_loss_step\u001b[49m\u001b[43m)\u001b[49m)\n\u001b[1;32m   1875\u001b[0m ):\n\u001b[1;32m   1876\u001b[0m     \u001b[38;5;66;03m# if loss is nan or inf simply add the average of previous logged losses\u001b[39;00m\n\u001b[1;32m   1877\u001b[0m     tr_loss \u001b[38;5;241m+\u001b[39m\u001b[38;5;241m=\u001b[39m tr_loss \u001b[38;5;241m/\u001b[39m (\u001b[38;5;241m1\u001b[39m \u001b[38;5;241m+\u001b[39m \u001b[38;5;28mself\u001b[39m\u001b[38;5;241m.\u001b[39mstate\u001b[38;5;241m.\u001b[39mglobal_step \u001b[38;5;241m-\u001b[39m \u001b[38;5;28mself\u001b[39m\u001b[38;5;241m.\u001b[39m_globalstep_last_logged)\n\u001b[1;32m   1878\u001b[0m \u001b[38;5;28;01melse\u001b[39;00m:\n",
      "\u001b[0;31mKeyboardInterrupt\u001b[0m: "
     ]
    }
   ],
   "source": [
    "trainer.train()"
   ]
  },
  {
   "cell_type": "code",
   "execution_count": 19,
   "id": "6d581099-37a4-4470-b051-1ada38554089",
   "metadata": {
    "execution": {
     "iopub.execute_input": "2024-07-17T12:43:27.727185Z",
     "iopub.status.busy": "2024-07-17T12:43:27.726872Z",
     "iopub.status.idle": "2024-07-17T12:43:27.745588Z",
     "shell.execute_reply": "2024-07-17T12:43:27.745058Z",
     "shell.execute_reply.started": "2024-07-17T12:43:27.727158Z"
    },
    "tags": []
   },
   "outputs": [],
   "source": [
    "small_test_dataset = tokenized_datasets[\"test\"].shuffle(seed=64).select(range(100))"
   ]
  },
  {
   "cell_type": "code",
   "execution_count": 20,
   "id": "ffb47eab-1370-491e-8a84-6d5347a350b2",
   "metadata": {
    "execution": {
     "iopub.execute_input": "2024-07-17T12:43:28.418062Z",
     "iopub.status.busy": "2024-07-17T12:43:28.417667Z",
     "iopub.status.idle": "2024-07-17T12:43:28.920178Z",
     "shell.execute_reply": "2024-07-17T12:43:28.919729Z",
     "shell.execute_reply.started": "2024-07-17T12:43:28.418025Z"
    },
    "tags": []
   },
   "outputs": [
    {
     "data": {
      "text/html": [
       "\n",
       "    <div>\n",
       "      \n",
       "      <progress value='13' max='13' style='width:300px; height:20px; vertical-align: middle;'></progress>\n",
       "      [13/13 00:00]\n",
       "    </div>\n",
       "    "
      ],
      "text/plain": [
       "<IPython.core.display.HTML object>"
      ]
     },
     "metadata": {},
     "output_type": "display_data"
    },
    {
     "data": {
      "text/plain": [
       "{'eval_loss': 1.005149245262146,\n",
       " 'eval_accuracy': 0.57,\n",
       " 'eval_runtime': 0.4927,\n",
       " 'eval_samples_per_second': 202.964,\n",
       " 'eval_steps_per_second': 26.385,\n",
       " 'epoch': 3.0}"
      ]
     },
     "execution_count": 20,
     "metadata": {},
     "output_type": "execute_result"
    }
   ],
   "source": [
    "trainer.evaluate(small_test_dataset)"
   ]
  },
  {
   "cell_type": "markdown",
   "id": "27a55686-7c43-4ab8-a5cd-0e77f14c7c52",
   "metadata": {},
   "source": [
    "### 保存模型和训练状态\n",
    "\n",
    "- 使用 `trainer.save_model` 方法保存模型，后续可以通过 from_pretrained() 方法重新加载\n",
    "- 使用 `trainer.save_state` 方法保存训练状态"
   ]
  },
  {
   "cell_type": "code",
   "execution_count": 21,
   "id": "ad0cbc14-9ef7-450f-a1a3-4f92b6486f41",
   "metadata": {
    "execution": {
     "iopub.execute_input": "2024-07-17T12:43:32.849437Z",
     "iopub.status.busy": "2024-07-17T12:43:32.849134Z",
     "iopub.status.idle": "2024-07-17T12:43:33.553568Z",
     "shell.execute_reply": "2024-07-17T12:43:33.553017Z",
     "shell.execute_reply.started": "2024-07-17T12:43:32.849412Z"
    },
    "tags": []
   },
   "outputs": [],
   "source": [
    "trainer.save_model(model_dir)"
   ]
  },
  {
   "cell_type": "code",
   "execution_count": null,
   "id": "f6e30510-0536-49d4-8e1b-43fc25272bde",
   "metadata": {},
   "outputs": [],
   "source": []
  },
  {
   "cell_type": "code",
   "execution_count": 22,
   "id": "badf5868-2847-439d-a73e-42d1cca67b5e",
   "metadata": {
    "execution": {
     "iopub.execute_input": "2024-07-17T12:43:34.779849Z",
     "iopub.status.busy": "2024-07-17T12:43:34.779524Z",
     "iopub.status.idle": "2024-07-17T12:43:34.783821Z",
     "shell.execute_reply": "2024-07-17T12:43:34.783052Z",
     "shell.execute_reply.started": "2024-07-17T12:43:34.779827Z"
    },
    "tags": []
   },
   "outputs": [],
   "source": [
    "trainer.save_state()"
   ]
  },
  {
   "cell_type": "code",
   "execution_count": null,
   "id": "8c9441ad-f65a-42b7-9016-4809c78285e9",
   "metadata": {},
   "outputs": [],
   "source": []
  },
  {
   "cell_type": "code",
   "execution_count": 23,
   "id": "fd92e35d-fed7-4ff2-aa84-27b5e29b917a",
   "metadata": {},
   "outputs": [],
   "source": [
    "# trainer.model.save_pretrained(\"./\")"
   ]
  },
  {
   "cell_type": "markdown",
   "id": "61828934-01da-4fc3-9e75-8d754c25dfbc",
   "metadata": {},
   "source": [
    "## Homework: 使用完整的 YelpReviewFull 数据集训练，看 Acc 最高能到多少"
   ]
  },
  {
   "cell_type": "code",
   "execution_count": null,
   "id": "6ee2580a-7a5a-46ae-a28b-b41e9e838eb1",
   "metadata": {},
   "outputs": [],
   "source": []
  }
 ],
 "metadata": {
  "kernelspec": {
   "display_name": "Python (peft)",
   "language": "python",
   "name": "peft"
  },
  "language_info": {
   "codemirror_mode": {
    "name": "ipython",
    "version": 3
   },
   "file_extension": ".py",
   "mimetype": "text/x-python",
   "name": "python",
   "nbconvert_exporter": "python",
   "pygments_lexer": "ipython3",
   "version": "3.10.14"
  }
 },
 "nbformat": 4,
 "nbformat_minor": 5
}
